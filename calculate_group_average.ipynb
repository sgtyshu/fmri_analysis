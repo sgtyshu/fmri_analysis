{
 "cells": [
  {
   "cell_type": "code",
   "execution_count": 37,
   "metadata": {},
   "outputs": [],
   "source": [
    "import nibabel as nib\n",
    "import numpy as np"
   ]
  },
  {
   "attachments": {},
   "cell_type": "markdown",
   "metadata": {},
   "source": [
    "加入其他被试时只需要添加sub_flag即可"
   ]
  },
  {
   "cell_type": "code",
   "execution_count": 56,
   "metadata": {},
   "outputs": [],
   "source": [
    "sub_flag = ['sub-03','sub-06','sub-07','sub-08','sub-09',\n",
    "            'sub-11','sub-12','sub-13','sub-14','sub-15','sub-16','sub-17','sub-18','sub-19','sub-20',\n",
    "            'sub-21','sub-22','sub-23','sub-24','sub-25','sub-26','sub-27','sub-28','sub-29','sub-30']\n",
    "fstat_flag = ['fstat1.dtseries.nii','fstat2.dtseries.nii','fstat3.dtseries.nii']"
   ]
  },
  {
   "cell_type": "code",
   "execution_count": 41,
   "metadata": {},
   "outputs": [],
   "source": [
    "container_f1 = np.zeros((1,91282))\n",
    "container_f2 = np.zeros((1,91282))\n",
    "container_f3 = np.zeros((1,91282))\n",
    "for sub in sub_flag:\n",
    "    file_path = '/nfs/t2/raven/data/bold/derivatives/ciftify/{}/MNINonLinear/Results/ses-raven_task-action/f_test_file_summary/flameoResultdir.feat/'.format(sub)\n",
    "    for fstat in fstat_flag:\n",
    "        dof_path = file_path + fstat\n",
    "        if fstat == 'fstat1.dtseries.nii':\n",
    "            container_f1 = container_f1 + nib.load(dof_path).get_fdata()\n",
    "        if fstat == 'fstat2.dtseries.nii':\n",
    "            container_f2 = container_f2 + nib.load(dof_path).get_fdata()\n",
    "        if fstat == 'fstat3.dtseries.nii':\n",
    "            container_f3 = container_f3 + nib.load(dof_path).get_fdata()\n",
    "avg_f1 =  np.divide(container_f1,len(sub_flag))   \n",
    "avg_f2 =  np.divide(container_f2,len(sub_flag))   \n",
    "avg_f3 =  np.divide(container_f3,len(sub_flag))   "
   ]
  },
  {
   "cell_type": "code",
   "execution_count": 42,
   "metadata": {},
   "outputs": [],
   "source": [
    "output = '../result/group_avg/' + 'attribute_group_avg.dtseries.nii'\n",
    "img = nib.Cifti2Image(avg_f1, nib.load(dof_path).header)\n",
    "nib.save(img, output)"
   ]
  },
  {
   "cell_type": "code",
   "execution_count": 43,
   "metadata": {},
   "outputs": [],
   "source": [
    "output = '../result/group_avg/' + 'rules_group_avg.dtseries.nii'\n",
    "img = nib.Cifti2Image(avg_f2, nib.load(dof_path).header)\n",
    "nib.save(img, output)"
   ]
  },
  {
   "cell_type": "code",
   "execution_count": 44,
   "metadata": {},
   "outputs": [],
   "source": [
    "output = '../result/group_avg/' + 'interaction_group_avg.dtseries.nii'\n",
    "img = nib.Cifti2Image(avg_f3, nib.load(dof_path).header)\n",
    "nib.save(img, output)"
   ]
  },
  {
   "cell_type": "code",
   "execution_count": 46,
   "metadata": {},
   "outputs": [
    {
     "name": "stderr",
     "output_type": "stream",
     "text": [
      "/nfs/h1/userhome/liyifan/.local/lib/python3.8/site-packages/scipy/stats/_axis_nan_policy.py:527: RuntimeWarning: Precision loss occurred in moment calculation due to catastrophic cancellation. This occurs when the data are nearly identical. Results may be unreliable.\n",
      "  res = hypotest_fun_out(*samples, axis=axis, **kwds)\n",
      "/nfs/h1/userhome/liyifan/.local/lib/python3.8/site-packages/scipy/stats/_stats_py.py:1214: RuntimeWarning: divide by zero encountered in divide\n",
      "  var *= np.divide(n, n-ddof)  # to avoid error on division by zero\n",
      "/nfs/h1/userhome/liyifan/.local/lib/python3.8/site-packages/scipy/stats/_stats_py.py:1214: RuntimeWarning: invalid value encountered in multiply\n",
      "  var *= np.divide(n, n-ddof)  # to avoid error on division by zero\n"
     ]
    }
   ],
   "source": [
    "from scipy import stats\n",
    "import numpy as np\n",
    "\n",
    "# 假设你的组平均效应数据存储在mean_effect数组中\n",
    "\n",
    "# 假设零假设为组平均效应为零\n",
    "null_hypothesis = 0\n",
    "\n",
    "# 进行单样本t检验\n",
    "t_statistic, p_value = stats.ttest_1samp(avg_f1, null_hypothesis)"
   ]
  },
  {
   "cell_type": "code",
   "execution_count": 50,
   "metadata": {},
   "outputs": [
    {
     "data": {
      "text/plain": [
       "(1, 91282)"
      ]
     },
     "execution_count": 50,
     "metadata": {},
     "output_type": "execute_result"
    }
   ],
   "source": [
    "avg_f1.shape"
   ]
  },
  {
   "cell_type": "code",
   "execution_count": 65,
   "metadata": {},
   "outputs": [],
   "source": [
    "import os\n",
    "import numpy as np\n",
    "from scipy import stats\n",
    "import nibabel as nib\n",
    "\n",
    "# 被试目录路径\n",
    "subjects_dir = '/nfs/t2/raven/data/bold/derivatives/ciftify'\n",
    "\n",
    "# 初始化结果数组\n",
    "p_values = []\n",
    "\n",
    "# 存储每个组的数据\n",
    "group_data = []\n",
    "\n",
    "# 遍历每个被试目录\n",
    "for subject in sub_flag:\n",
    "    subject_dir = os.path.join(subjects_dir, subject, 'MNINonLinear', 'Results', 'ses-raven_task-action','f_test_file_summary')\n",
    "    file_name1 = '{}_ses-raven_task-action_level2_cope_A2R1-A1R1-A2R2+A1R2_hp200_s4.dscalar.nii'.format(subject)\n",
    "    file_name2 = '{}_ses-raven_task-action_level2_cope_A2R3-A1R3-A2R2+A1R2_hp200_s4.dscalar.nii'.format(subject)\n",
    "    file_name3 = '{}_ses-raven_task-action_level2_cope_A3R1-A1R1-A3R2+A1R2_hp200_s4.dscalar.nii'.format(subject)\n",
    "    file_name4 = '{}_ses-raven_task-action_level2_cope_A3R3-A1R3-A3R2+A1R2_hp200_s4.dscalar.nii'.format(subject)\n",
    "    \n",
    "    # 要比较的多个文件\n",
    "    file_names = []\n",
    "    file_names.append(file_name1)\n",
    "    file_names.append(file_name2)\n",
    "    file_names.append(file_name3)\n",
    "    file_names.append(file_name4)\n",
    "\n",
    "    # 存储当前被试的数据\n",
    "    subject_data = []\n",
    "\n",
    "    # 加载图像数据\n",
    "    for file_name in file_names:\n",
    "        file_path = os.path.join(subject_dir, file_name)\n",
    "        img = nib.load(file_path)\n",
    "        data = img.get_fdata()\n",
    "        subject_data.append(data)\n",
    "\n",
    "    # 将当前被试的数据添加到组数据列表中\n",
    "    group_data.append(subject_data)\n",
    "\n",
    "# 执行方差分析（ANOVA）\n",
    "f_statistic, p_value = stats.f_oneway(*group_data)\n",
    "# 打印p值"
   ]
  },
  {
   "cell_type": "code",
   "execution_count": 64,
   "metadata": {},
   "outputs": [],
   "source": [
    "output = '../result/group_avg/' + 'interaction_p_map.dtseries.nii'\n",
    "img = nib.Cifti2Image(p_value, nib.load(dof_path).header)\n",
    "nib.save(img, output)"
   ]
  },
  {
   "cell_type": "code",
   "execution_count": null,
   "metadata": {},
   "outputs": [],
   "source": []
  }
 ],
 "metadata": {
  "kernelspec": {
   "display_name": "base",
   "language": "python",
   "name": "python3"
  },
  "language_info": {
   "codemirror_mode": {
    "name": "ipython",
    "version": 3
   },
   "file_extension": ".py",
   "mimetype": "text/x-python",
   "name": "python",
   "nbconvert_exporter": "python",
   "pygments_lexer": "ipython3",
   "version": "3.8.5"
  },
  "orig_nbformat": 4
 },
 "nbformat": 4,
 "nbformat_minor": 2
}
